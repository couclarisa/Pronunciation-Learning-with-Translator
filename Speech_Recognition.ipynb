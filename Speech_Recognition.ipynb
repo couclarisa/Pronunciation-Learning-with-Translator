{
  "nbformat": 4,
  "nbformat_minor": 0,
  "metadata": {
    "colab": {
      "name": "Speech Recognition.ipynb",
      "provenance": [],
      "collapsed_sections": [
        "8KrrzNGd8KCX",
        "G7s_-PkZvFLS",
        "TNCjxtUT8Pcf",
        "CUDbmmBX8Vih",
        "tD2s1mpvD5f8",
        "xk_fdc7PkyoN"
      ],
      "toc_visible": true
    },
    "kernelspec": {
      "name": "python3",
      "display_name": "Python 3"
    },
    "language_info": {
      "name": "python"
    }
  },
  "cells": [
    {
      "cell_type": "code",
      "metadata": {
        "id": "vCI8UwvjIP_J",
        "colab": {
          "base_uri": "https://localhost:8080/"
        },
        "outputId": "46b55c5e-54d6-4753-a38e-75a12b03a517"
      },
      "source": [
        "!pip install pydub\n",
        "!pip install tensorflow-io\n",
        "!pip install mutagen"
      ],
      "execution_count": 2,
      "outputs": [
        {
          "output_type": "stream",
          "text": [
            "Requirement already satisfied: pydub in /usr/local/lib/python3.7/dist-packages (0.25.1)\n",
            "Requirement already satisfied: tensorflow-io in /usr/local/lib/python3.7/dist-packages (0.17.1)\n",
            "Requirement already satisfied: tensorflow<2.5.0,>=2.4.0 in /usr/local/lib/python3.7/dist-packages (from tensorflow-io) (2.4.1)\n",
            "Requirement already satisfied: flatbuffers~=1.12.0 in /usr/local/lib/python3.7/dist-packages (from tensorflow<2.5.0,>=2.4.0->tensorflow-io) (1.12)\n",
            "Requirement already satisfied: grpcio~=1.32.0 in /usr/local/lib/python3.7/dist-packages (from tensorflow<2.5.0,>=2.4.0->tensorflow-io) (1.32.0)\n",
            "Requirement already satisfied: typing-extensions~=3.7.4 in /usr/local/lib/python3.7/dist-packages (from tensorflow<2.5.0,>=2.4.0->tensorflow-io) (3.7.4.3)\n",
            "Requirement already satisfied: tensorflow-estimator<2.5.0,>=2.4.0 in /usr/local/lib/python3.7/dist-packages (from tensorflow<2.5.0,>=2.4.0->tensorflow-io) (2.4.0)\n",
            "Requirement already satisfied: opt-einsum~=3.3.0 in /usr/local/lib/python3.7/dist-packages (from tensorflow<2.5.0,>=2.4.0->tensorflow-io) (3.3.0)\n",
            "Requirement already satisfied: termcolor~=1.1.0 in /usr/local/lib/python3.7/dist-packages (from tensorflow<2.5.0,>=2.4.0->tensorflow-io) (1.1.0)\n",
            "Requirement already satisfied: wheel~=0.35 in /usr/local/lib/python3.7/dist-packages (from tensorflow<2.5.0,>=2.4.0->tensorflow-io) (0.36.2)\n",
            "Requirement already satisfied: google-pasta~=0.2 in /usr/local/lib/python3.7/dist-packages (from tensorflow<2.5.0,>=2.4.0->tensorflow-io) (0.2.0)\n",
            "Requirement already satisfied: tensorboard~=2.4 in /usr/local/lib/python3.7/dist-packages (from tensorflow<2.5.0,>=2.4.0->tensorflow-io) (2.4.1)\n",
            "Requirement already satisfied: gast==0.3.3 in /usr/local/lib/python3.7/dist-packages (from tensorflow<2.5.0,>=2.4.0->tensorflow-io) (0.3.3)\n",
            "Requirement already satisfied: protobuf>=3.9.2 in /usr/local/lib/python3.7/dist-packages (from tensorflow<2.5.0,>=2.4.0->tensorflow-io) (3.12.4)\n",
            "Requirement already satisfied: wrapt~=1.12.1 in /usr/local/lib/python3.7/dist-packages (from tensorflow<2.5.0,>=2.4.0->tensorflow-io) (1.12.1)\n",
            "Requirement already satisfied: numpy~=1.19.2 in /usr/local/lib/python3.7/dist-packages (from tensorflow<2.5.0,>=2.4.0->tensorflow-io) (1.19.5)\n",
            "Requirement already satisfied: absl-py~=0.10 in /usr/local/lib/python3.7/dist-packages (from tensorflow<2.5.0,>=2.4.0->tensorflow-io) (0.12.0)\n",
            "Requirement already satisfied: keras-preprocessing~=1.1.2 in /usr/local/lib/python3.7/dist-packages (from tensorflow<2.5.0,>=2.4.0->tensorflow-io) (1.1.2)\n",
            "Requirement already satisfied: six~=1.15.0 in /usr/local/lib/python3.7/dist-packages (from tensorflow<2.5.0,>=2.4.0->tensorflow-io) (1.15.0)\n",
            "Requirement already satisfied: h5py~=2.10.0 in /usr/local/lib/python3.7/dist-packages (from tensorflow<2.5.0,>=2.4.0->tensorflow-io) (2.10.0)\n",
            "Requirement already satisfied: astunparse~=1.6.3 in /usr/local/lib/python3.7/dist-packages (from tensorflow<2.5.0,>=2.4.0->tensorflow-io) (1.6.3)\n",
            "Requirement already satisfied: requests<3,>=2.21.0 in /usr/local/lib/python3.7/dist-packages (from tensorboard~=2.4->tensorflow<2.5.0,>=2.4.0->tensorflow-io) (2.23.0)\n",
            "Requirement already satisfied: tensorboard-plugin-wit>=1.6.0 in /usr/local/lib/python3.7/dist-packages (from tensorboard~=2.4->tensorflow<2.5.0,>=2.4.0->tensorflow-io) (1.8.0)\n",
            "Requirement already satisfied: setuptools>=41.0.0 in /usr/local/lib/python3.7/dist-packages (from tensorboard~=2.4->tensorflow<2.5.0,>=2.4.0->tensorflow-io) (56.1.0)\n",
            "Requirement already satisfied: werkzeug>=0.11.15 in /usr/local/lib/python3.7/dist-packages (from tensorboard~=2.4->tensorflow<2.5.0,>=2.4.0->tensorflow-io) (1.0.1)\n",
            "Requirement already satisfied: markdown>=2.6.8 in /usr/local/lib/python3.7/dist-packages (from tensorboard~=2.4->tensorflow<2.5.0,>=2.4.0->tensorflow-io) (3.3.4)\n",
            "Requirement already satisfied: google-auth-oauthlib<0.5,>=0.4.1 in /usr/local/lib/python3.7/dist-packages (from tensorboard~=2.4->tensorflow<2.5.0,>=2.4.0->tensorflow-io) (0.4.4)\n",
            "Requirement already satisfied: google-auth<2,>=1.6.3 in /usr/local/lib/python3.7/dist-packages (from tensorboard~=2.4->tensorflow<2.5.0,>=2.4.0->tensorflow-io) (1.30.0)\n",
            "Requirement already satisfied: idna<3,>=2.5 in /usr/local/lib/python3.7/dist-packages (from requests<3,>=2.21.0->tensorboard~=2.4->tensorflow<2.5.0,>=2.4.0->tensorflow-io) (2.10)\n",
            "Requirement already satisfied: urllib3!=1.25.0,!=1.25.1,<1.26,>=1.21.1 in /usr/local/lib/python3.7/dist-packages (from requests<3,>=2.21.0->tensorboard~=2.4->tensorflow<2.5.0,>=2.4.0->tensorflow-io) (1.24.3)\n",
            "Requirement already satisfied: chardet<4,>=3.0.2 in /usr/local/lib/python3.7/dist-packages (from requests<3,>=2.21.0->tensorboard~=2.4->tensorflow<2.5.0,>=2.4.0->tensorflow-io) (3.0.4)\n",
            "Requirement already satisfied: certifi>=2017.4.17 in /usr/local/lib/python3.7/dist-packages (from requests<3,>=2.21.0->tensorboard~=2.4->tensorflow<2.5.0,>=2.4.0->tensorflow-io) (2020.12.5)\n",
            "Requirement already satisfied: importlib-metadata; python_version < \"3.8\" in /usr/local/lib/python3.7/dist-packages (from markdown>=2.6.8->tensorboard~=2.4->tensorflow<2.5.0,>=2.4.0->tensorflow-io) (4.0.1)\n",
            "Requirement already satisfied: requests-oauthlib>=0.7.0 in /usr/local/lib/python3.7/dist-packages (from google-auth-oauthlib<0.5,>=0.4.1->tensorboard~=2.4->tensorflow<2.5.0,>=2.4.0->tensorflow-io) (1.3.0)\n",
            "Requirement already satisfied: rsa<5,>=3.1.4; python_version >= \"3.6\" in /usr/local/lib/python3.7/dist-packages (from google-auth<2,>=1.6.3->tensorboard~=2.4->tensorflow<2.5.0,>=2.4.0->tensorflow-io) (4.7.2)\n",
            "Requirement already satisfied: pyasn1-modules>=0.2.1 in /usr/local/lib/python3.7/dist-packages (from google-auth<2,>=1.6.3->tensorboard~=2.4->tensorflow<2.5.0,>=2.4.0->tensorflow-io) (0.2.8)\n",
            "Requirement already satisfied: cachetools<5.0,>=2.0.0 in /usr/local/lib/python3.7/dist-packages (from google-auth<2,>=1.6.3->tensorboard~=2.4->tensorflow<2.5.0,>=2.4.0->tensorflow-io) (4.2.2)\n",
            "Requirement already satisfied: zipp>=0.5 in /usr/local/lib/python3.7/dist-packages (from importlib-metadata; python_version < \"3.8\"->markdown>=2.6.8->tensorboard~=2.4->tensorflow<2.5.0,>=2.4.0->tensorflow-io) (3.4.1)\n",
            "Requirement already satisfied: oauthlib>=3.0.0 in /usr/local/lib/python3.7/dist-packages (from requests-oauthlib>=0.7.0->google-auth-oauthlib<0.5,>=0.4.1->tensorboard~=2.4->tensorflow<2.5.0,>=2.4.0->tensorflow-io) (3.1.0)\n",
            "Requirement already satisfied: pyasn1>=0.1.3 in /usr/local/lib/python3.7/dist-packages (from rsa<5,>=3.1.4; python_version >= \"3.6\"->google-auth<2,>=1.6.3->tensorboard~=2.4->tensorflow<2.5.0,>=2.4.0->tensorflow-io) (0.4.8)\n",
            "Requirement already satisfied: mutagen in /usr/local/lib/python3.7/dist-packages (1.45.1)\n"
          ],
          "name": "stdout"
        }
      ]
    },
    {
      "cell_type": "code",
      "metadata": {
        "id": "DJRSZDQuBLS5"
      },
      "source": [
        "import os\n",
        "import pathlib\n",
        "import re\n",
        "import shutil\n",
        "import mutagen\n",
        "import math\n",
        "\n",
        "import matplotlib.pyplot as plt\n",
        "import numpy as np\n",
        "import tensorflow as tf\n",
        "import tensorflow_io as tfio\n",
        "\n",
        "from tensorflow.keras.layers.experimental import preprocessing\n",
        "from tensorflow.keras import layers\n",
        "from tensorflow.keras import models\n",
        "from IPython import display\n",
        "from pydub import AudioSegment\n",
        "from mutagen.wave import WAVE\n",
        "from string import ascii_lowercase"
      ],
      "execution_count": 3,
      "outputs": []
    },
    {
      "cell_type": "markdown",
      "metadata": {
        "id": "8KrrzNGd8KCX"
      },
      "source": [
        "### GetCleanFile Class"
      ]
    },
    {
      "cell_type": "code",
      "metadata": {
        "id": "ewBM_6fcbFuq"
      },
      "source": [
        "class GetCleanFile:\n",
        "  def __init__(self, origin, new_path, newer_path):\n",
        "    self.origin = origin\n",
        "    self.new_path = new_path\n",
        "    self.newer_path = newer_path\n",
        "    self.train_path = \"\"\n",
        "    \n",
        "    # make new directory to contain organized sub-directory\n",
        "    if not os.path.exists(self.newer_path):\n",
        "      os.mkdir(self.newer_path)\n",
        "  \n",
        "  def __call__(self):\n",
        "    # download data from the web server\n",
        "    data_dir = pathlib.Path(self.new_path)\n",
        "    \n",
        "    if not data_dir.exists():\n",
        "      tf.keras.utils.get_file(\n",
        "          'librispeech.zip',\n",
        "          origin = self.origin,\n",
        "          extract = True,\n",
        "          cache_dir = '.',\n",
        "          cache_subdir = self.new_path.split('/')[-1])\n",
        "      \n",
        "    return self\n",
        "  \n",
        "  def get_train_path (self):\n",
        "    '''get train data directory path'''\n",
        "    all_file = os.listdir(self.new_path)\n",
        "    dir = [i for i in all_file if not re.match('[\\w]*.zip',i)][0]\n",
        "    path = os.path.join(new_path,dir)\n",
        "    train_dir = [i for i in os.listdir(path) if not re.match('[\\w]*.TXT',i)][0]\n",
        "    self.train_path = os.path.join(path,train_dir)\n",
        "    return self\n",
        "\n",
        "  def get_subdirectory(self):\n",
        "    '''including subdirectories and excluding upper directories'''\n",
        "    return tf.io.gfile.glob(str(self.train_path)+'/*/*')\n",
        "\n",
        "  def rename_and_move_dir(self, dir_names):\n",
        "    ''' rename the sub-directory and move the subdirectory\n",
        "        to another directory'''\n",
        "    for i, dir in enumerate(dir_names):\n",
        "        split_dir = dir.split('/')\n",
        "        split_dir[-1] = str(i)\n",
        "        joined_dir = '/'.join(split_dir)\n",
        "        shutil.move(dir, joined_dir)\n",
        "        shutil.move(joined_dir, self.newer_path)\n",
        "    return self\n",
        "  \n",
        "  def delete_directory(self):\n",
        "    '''delete initial data directory'''\n",
        "    shutil.rmtree(self.new_path)\n",
        "\n",
        "  def clean_label(self, subdirs):\n",
        "    '''process the label so its content does not have filename in front of each\n",
        "        lines'''\n",
        "    for subdir in subdirs:\n",
        "      # Define sub-directory for the new files\n",
        "      new_subdir = subdir.split('/')[:-1]\n",
        "      new_subdir = '/'.join(new_subdir)\n",
        "\n",
        "      with open(subdir, 'r') as f:\n",
        "      \n",
        "        # Read all lines and return as list\n",
        "        lines = f.readlines()\n",
        "\n",
        "        # iterate line by line\n",
        "        for line in lines:\n",
        "          new_name = line.split()[0]\n",
        "          content = ' '.join(line.split()[1:]).lower()\n",
        "          file_subdir = os.path.join(new_subdir, f'{new_name}.txt')\n",
        "          with open(file_subdir, 'w') as new_file:\n",
        "            new_file.write(content)\n",
        "\n",
        "        # delete initial text file\n",
        "        os.remove(subdir)"
      ],
      "execution_count": 4,
      "outputs": []
    },
    {
      "cell_type": "markdown",
      "metadata": {
        "id": "G7s_-PkZvFLS"
      },
      "source": [
        "### EncodingDecoding Class"
      ]
    },
    {
      "cell_type": "code",
      "metadata": {
        "id": "sb6DOUzMvmj7"
      },
      "source": [
        "class EncodingDecoding:\n",
        "  def __init__(self):\n",
        "    self.char = [c for c in ascii_lowercase]\n",
        "    self.non_alpha = [\" \", \"'\"]\n",
        "    self.non_alpha.extend(self.char)  \n",
        "\n",
        "  def encode_label(self, label):\n",
        "    keys_tensor = tf.constant(self.non_alpha)\n",
        "    vals_tensor = tf.constant(np.arange(len(self.non_alpha)))\n",
        "    input_tensor = label\n",
        "\n",
        "    table = tf.lookup.StaticHashTable(\n",
        "        tf.lookup.KeyValueTensorInitializer(keys_tensor, vals_tensor),\n",
        "        default_value=-1)\n",
        "    \n",
        "    return table.lookup(input_tensor)\n",
        "\n",
        "  def decode_label(self,predicted_label):\n",
        "    keys_tensor = tf.constant(np.arange(len(self.non_alpha)))\n",
        "    vals_tensor = tf.constant(self.non_alpha)\n",
        "    input_tensor = predicted_label\n",
        "\n",
        "    table = tf.lookup.StaticHashTable(\n",
        "        tf.lookup.KeyValueTensorInitializer(keys_tensor, vals_tensor),\n",
        "        default_value='')\n",
        "    \n",
        "    return table.lookup(input_tensor).numpy()\n",
        "  \n",
        "  def decode_audio(self, audio_binary):\n",
        "    ''' decode wav file to float tensor'''\n",
        "    waveform, _ = tf.audio.decode_wav(audio_binary)\n",
        "    return tf.squeeze(waveform,axis=-1)"
      ],
      "execution_count": 5,
      "outputs": []
    },
    {
      "cell_type": "markdown",
      "metadata": {
        "id": "TNCjxtUT8Pcf"
      },
      "source": [
        "### AudioFileConversion Class"
      ]
    },
    {
      "cell_type": "code",
      "metadata": {
        "id": "Fua0IT4c1IeN"
      },
      "source": [
        "class AudioFileConversion:\n",
        "  def convert_flac_to_wav(self, src, dst):\n",
        "    flac_audio = AudioSegment.from_file(src,format=\"flac\")\n",
        "    flac_audio.export(dst, format=\"wav\") \n",
        "\n",
        "  def file_conversion(self, path):\n",
        "    '''convert flac file into wav file'''\n",
        "    for i, (subdirs, dir, fnames) in enumerate(os.walk(path)):\n",
        "      if i > 0: \n",
        "        fnames = [fname for fname in fnames if not re.match('[\\w\\d.-]*.txt',fname)]\n",
        "        for fname in fnames:\n",
        "\n",
        "          # creating source path and destination path for the converted file\n",
        "          src = os.path.join(subdirs,fname)\n",
        "          fname_split = fname.split('.')\n",
        "          fname_split[-1]='wav'\n",
        "          fname = '.'.join(fname_split)\n",
        "          dst =  os.path.join(subdirs, fname)\n",
        "\n",
        "          # convert flac file format into wav file format\n",
        "          self.convert_flac_to_wav(src, dst)\n",
        "\n",
        "          # delete initial flac file\n",
        "          os.remove(src) "
      ],
      "execution_count": 6,
      "outputs": []
    },
    {
      "cell_type": "markdown",
      "metadata": {
        "id": "CUDbmmBX8Vih"
      },
      "source": [
        "### AudioDataProcessing Class"
      ]
    },
    {
      "cell_type": "code",
      "metadata": {
        "id": "dE6KSIBkfy3Y"
      },
      "source": [
        "class AudioDataProcessing:\n",
        "  def __init__(self, path):\n",
        "    self.path = path\n",
        "    self.max_length = 0\n",
        "    self.sample_rate = 16000\n",
        "  def get_max_length(self):\n",
        "    '''find maximum length file'''\n",
        "    audio_length = []\n",
        "    file_dir = tf.io.gfile.glob(self.path+'/*/*.wav')\n",
        "    for fil in file_dir:\n",
        "      audio = WAVE(fil).info.length\n",
        "      audio_length.append(audio)\n",
        "    self.max_length = max(audio_length)\n",
        "\n",
        "    return self\n",
        "\n",
        "  def get_spectrogram(self, waveform):\n",
        "    '''Create spectogram from audio wave form'''\n",
        "    # Padding for files with less than max sample\n",
        "    max_sample = int(self.max_length * self.sample_rate)\n",
        "    zero_padding = tf.zeros([max_sample] - tf.shape(waveform), dtype=tf.float32)\n",
        "\n",
        "    # Concatenate audio with padding so that all audio clips will be of the \n",
        "    # same length\n",
        "    waveform = tf.cast(waveform, tf.float32)\n",
        "    equal_length = tf.concat([waveform, zero_padding], 0)\n",
        "    spectrogram = tf.signal.stft(\n",
        "        equal_length, frame_length=1024, \n",
        "        frame_step = 892)\n",
        "      \n",
        "    spectrogram = tf.abs(spectrogram)\n",
        "\n",
        "    return spectrogram\n",
        "\n",
        "    #Spoken Word Recognition Using MFCC and Learning Vector Quantization\n",
        "  def get_log_mel_spectrograms(self, spectrogram):\n",
        "    '''extract log mel spectrogram from spectrogram'''\n",
        "    num_spectrogram_bins = spectrogram.shape[-1]\n",
        "    num_mel_bins, lower_edge_hertz, upper_edge_hertz = 13, 250, 8000\n",
        "    weight = tf.signal.linear_to_mel_weight_matrix(num_mel_bins, num_spectrogram_bins,\n",
        "                                                 self.sample_rate, lower_edge_hertz,\n",
        "                                                 upper_edge_hertz)\n",
        "    mel_spectrograms = tf.tensordot(spectrogram,weight,1)\n",
        "    mel_spectrograms.set_shape(spectrogram.shape[:-1].concatenate(\n",
        "            weight.shape[-1:]))\n",
        "  \n",
        "    log_mel_spectrograms = tf.math.log(mel_spectrograms + 1e-6)\n",
        "    return log_mel_spectrograms\n",
        "  \n",
        "  def get_mfcc(self, log_mel_spectrograms):\n",
        "    '''extract mel frequency ceptrums coefficients from audio waveform'''\n",
        "    mfcc = tf.signal.mfccs_from_log_mel_spectrograms(log_mel_spectrograms)\n",
        "    return mfcc\n",
        "\n",
        "  def spec_augment(self):\n",
        "    '''perform data augmentation for audio log spectrogram'''\n",
        "    param = np.random.randint(1,100)\n",
        "    augmentation = tf.keras.Sequential([\n",
        "       layers.Lambda(lambda x : tfio.experimental.audio.freq_mask(x, param)),\n",
        "       layers.Lambda(lambda x : tfio.experimental.audio.time_mask(x, param))            \n",
        "    ])\n",
        "\n",
        "    return augmentation"
      ],
      "execution_count": 7,
      "outputs": []
    },
    {
      "cell_type": "markdown",
      "metadata": {
        "id": "tD2s1mpvD5f8"
      },
      "source": [
        "### GetWaveformLabel Class"
      ]
    },
    {
      "cell_type": "code",
      "metadata": {
        "id": "E6sksXMP-M2v"
      },
      "source": [
        "class GetWaveformLabel(EncodingDecoding):\n",
        "  def __init__(self):\n",
        "    super().__init__()\n",
        "\n",
        "  def get_waveform_label(self, audio_file, text_file):\n",
        "    # decode WAV audio file\n",
        "    audio_data = tf.io.read_file(audio_file)\n",
        "    waveform = super().decode_audio(audio_data)\n",
        "    \n",
        "    #convert tensor into str\n",
        "    text = tf.io.read_file(text_file)\n",
        "\n",
        "    #split char from whole string\n",
        "    chars = tf.strings.bytes_split(text)\n",
        "\n",
        "    # encode text file to numeric values  \n",
        "    label = super().encode_label(chars)\n",
        "\n",
        "    return waveform, label"
      ],
      "execution_count": 8,
      "outputs": []
    },
    {
      "cell_type": "markdown",
      "metadata": {
        "id": "xk_fdc7PkyoN"
      },
      "source": [
        "### GetProcessDataLabel"
      ]
    },
    {
      "cell_type": "code",
      "metadata": {
        "id": "Xt2ggNcgjIFO"
      },
      "source": [
        "class GetProcessDataLabel(AudioDataProcessing):\n",
        "  def __init__(self, path):\n",
        "    super().__init__(path)\n",
        "  \n",
        "  def get_process_label(self, waveform, label):\n",
        "    super().get_max_length()\n",
        "    x = super().get_spectrogram(waveform)\n",
        "    x = super().spec_augment()(x)\n",
        "    x = super().get_log_mel_spectrograms(x)\n",
        "    x = super().get_mfcc(x)\n",
        "    return x, label"
      ],
      "execution_count": 9,
      "outputs": []
    },
    {
      "cell_type": "markdown",
      "metadata": {
        "id": "-mBVv4038co1"
      },
      "source": [
        "### Extract"
      ]
    },
    {
      "cell_type": "code",
      "metadata": {
        "id": "sSDFAddr8Ad0"
      },
      "source": [
        "def organize_file(origin, new_path, newer_path):\n",
        "  get_clean_file = GetCleanFile(origin,new_path,newer_path)\n",
        "  dir_names = get_clean_file().get_train_path().get_subdirectory()\n",
        "  get_clean_file.rename_and_move_dir(dir_names)\n",
        "  get_clean_file.delete_directory()\n",
        "\n",
        "  subdir = tf.io.gfile.glob(newer_path + '/*/*.txt')\n",
        "  subdir_1 = tf.io.gfile.glob(newer_path + '/*/*.flac')\n",
        "  get_clean_file.clean_label(subdir)\n",
        "\n",
        "def flac_conversion(path):\n",
        "  file_conversion = AudioFileConversion()\n",
        "  file_conversion.file_conversion(path)\n",
        "\n",
        "def preprocess_dataset(path):\n",
        "  newer_path = './DATA'\n",
        "  AUTOTUNE = tf.data.experimental.AUTOTUNE\n",
        "  audio_file = sorted(np.array(tf.io.gfile.glob(str(newer_path) + '/*/*.wav')))\n",
        "  text_file = sorted(np.array(tf.io.gfile.glob(str(newer_path) + '/*/*.txt')))\n",
        "  list_ds = tf.data.Dataset.from_tensor_slices((audio_file, text_file)).cache()\n",
        "  \n",
        "  get_waveform_label = GetWaveformLabel()\n",
        "  get_process_data_label = GetProcessDataLabel('./DATA').get_max_length()\n",
        "  \n",
        "  waveform_ds = list_ds.map(get_waveform_label.get_waveform_label, num_parallel_calls=AUTOTUNE)\n",
        "  waveform_ds = waveform_ds.cache()\n",
        "  waveform_ds = waveform_ds.prefetch(AUTOTUNE)\n",
        "\n",
        "  spectrogram_ds = waveform_ds.map(get_process_data_label.get_process_label, num_parallel_calls=AUTOTUNE)\n",
        "  spectrogram_ds = spectrogram_ds.cache()\n",
        "\n",
        "  preprocess_ds = spectrogram_ds.shuffle(1024).repeat(5).batch(128)\n",
        "  return preprocess_ds\n"
      ],
      "execution_count": 11,
      "outputs": []
    },
    {
      "cell_type": "code",
      "metadata": {
        "colab": {
          "base_uri": "https://localhost:8080/"
        },
        "id": "w_pQH3jPGomF",
        "outputId": "93dbf071-d849-49f1-a58d-eee6f8678bc9"
      },
      "source": [
        "if __name__==\"__main__\":\n",
        "  origin = 'https://www.openslr.org/resources/12/train-clean-100.tar.gz'\n",
        "  new_path = './data'\n",
        "  newer_path = './DATA'\n",
        "  organize_file(origin, new_path, newer_path)\n",
        "  flac_conversion(newer_path)\n",
        "  preprocess_ds = preprocess_dataset(newer_path)\n"
      ],
      "execution_count": 12,
      "outputs": [
        {
          "output_type": "stream",
          "text": [
            "/usr/local/lib/python3.7/dist-packages/ipykernel_launcher.py:25: UserWarning: Creating resources inside a function passed to Dataset.map() is not supported. Create each resource outside the function, and capture it inside the function to use it.\n"
          ],
          "name": "stderr"
        }
      ]
    },
    {
      "cell_type": "markdown",
      "metadata": {
        "id": "XL5VJm0WzCOD"
      },
      "source": [
        "### Test"
      ]
    },
    {
      "cell_type": "code",
      "metadata": {
        "id": "9h7uF4Ayn2fJ"
      },
      "source": [
        "display.Audio(waveform.numpy(),rate=sample_rate.numpy())"
      ],
      "execution_count": 15,
      "outputs": []
    },
    {
      "cell_type": "code",
      "metadata": {
        "id": "zAZACst0q8ba"
      },
      "source": [
        "def plot_spectrogram(spectrogram, ax):\n",
        "  # Convert to frequencies to log scale and transpose so that the time is\n",
        "  # represented in the x-axis (columns).\n",
        "  log_spec = np.log(spectrogram.T)\n",
        "  height = log_spec.shape[0]\n",
        "  width = log_spec.shape[1]\n",
        "  X = np.linspace(0, np.size(spectrogram), num=width, dtype=int)\n",
        "  Y = range(height)\n",
        "  ax.pcolormesh(X, Y, log_spec)\n",
        "\n",
        "\n",
        "fig, axes = plt.subplots(2, figsize=(12, 8))\n",
        "timescale = np.arange(waveform.shape[0])\n",
        "axes[0].plot(timescale, waveform.numpy())\n",
        "axes[0].set_title('Waveform')\n",
        "\n",
        "result = audio_processing.spec_augment()(spectrogram)\n",
        "plot_spectrogram(result.numpy(), axes[1])\n",
        "axes[1].set_title('Spectrogram')\n",
        "plt.show()\n"
      ],
      "execution_count": null,
      "outputs": []
    }
  ]
}

#build network model using Keras

import tensorflow as tf
import tensorflow.keras as keras
from keras.models import Sequential
from keras.layers import Dense
model = Sequential()
  Model.add(Dense(512, activation='relu', input_shape=(16000,)))
model.add(Dense(256, activation='relu'))
model.add(Dense(64, activation='relu'))
  Model.add(Dense(2, activation='softmax'))
model.compile(loss=keras.losses.categorical_crossentropy, optimizer=keras.optimizers.Adadelta(), metrics=['accuracy'])
  Model.fit(waveform, label, batch_size=124, epochs=7, verbose=1, validation_data=(testing_wav, testing_label))
sc = model.evaluate(waveform_ds, spectogram_ds, verbose =0)
print('Loss for test: ', sc[0])
print('Accuracy: ', sc[1])
